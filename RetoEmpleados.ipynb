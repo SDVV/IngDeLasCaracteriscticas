{
 "cells": [
  {
   "cell_type": "markdown",
   "metadata": {},
   "source": [
    "# Paso 1: Importar las librerías requeridas"
   ]
  },
  {
   "cell_type": "code",
   "execution_count": 1,
   "metadata": {},
   "outputs": [],
   "source": [
    "import pandas as pd\n",
    "import numpy as np\n",
    "from sklearn.preprocessing import StandardScaler\n",
    "from sklearn.decomposition import PCA\n",
    "from datetime import datetime"
   ]
  },
  {
   "cell_type": "markdown",
   "metadata": {},
   "source": [
    "# Paso 2: Leer el archivo CSV"
   ]
  },
  {
   "cell_type": "code",
   "execution_count": 2,
   "metadata": {},
   "outputs": [],
   "source": [
    "EmpleadosAttrition = pd.read_csv('empleadosRETO.csv')\n"
   ]
  },
  {
   "cell_type": "markdown",
   "metadata": {},
   "source": [
    "# Paso 3: Eliminar columnas innecesarias\n"
   ]
  },
  {
   "cell_type": "code",
   "execution_count": 3,
   "metadata": {},
   "outputs": [],
   "source": [
    "columnas_a_eliminar = ['EmployeeCount', 'EmployeeNumber', 'Over18', 'StandardHours']\n",
    "EmpleadosAttrition = EmpleadosAttrition.drop(columns=columnas_a_eliminar)"
   ]
  },
  {
   "cell_type": "markdown",
   "metadata": {},
   "source": [
    "# Paso 4 y 5: Crear columna Year"
   ]
  },
  {
   "cell_type": "code",
   "execution_count": 4,
   "metadata": {},
   "outputs": [
    {
     "name": "stdout",
     "output_type": "stream",
     "text": [
      "Algunas fechas no pudieron ser parseadas.\n",
      "     Age BusinessTravel Department DistanceFromHome  Education EducationField  \\\n",
      "229   36  Travel_Rarely      Sales            11 km          4      Marketing   \n",
      "\n",
      "     EnvironmentSatisfaction  Gender  JobInvolvement  JobLevel  ...  \\\n",
      "229                        2  Female               2         2  ...   \n",
      "\n",
      "    PercentSalaryHike  PerformanceRating RelationshipSatisfaction  \\\n",
      "229                13                  3                        1   \n",
      "\n",
      "     TotalWorkingYears  TrainingTimesLastYear WorkLifeBalance  \\\n",
      "229                  8                      2               2   \n",
      "\n",
      "    YearsInCurrentRole  YearsSinceLastPromotion  Attrition  Year  \n",
      "229                  3                        0         No   NaN  \n",
      "\n",
      "[1 rows x 27 columns]\n"
     ]
    }
   ],
   "source": [
    "EmpleadosAttrition['Year'] = pd.to_datetime(EmpleadosAttrition['HiringDate'], format='%d/%m/%Y', errors='coerce').dt.year\n",
    "mask = EmpleadosAttrition['Year'].isna()\n",
    "EmpleadosAttrition.loc[mask, 'Year'] = pd.to_datetime(EmpleadosAttrition.loc[mask, 'HiringDate'], format='%m/%d/%Y', errors='coerce').dt.year\n",
    "\n",
    "mask = EmpleadosAttrition['Year'].isna()\n",
    "EmpleadosAttrition.loc[mask, 'Year'] = pd.to_datetime(EmpleadosAttrition.loc[mask, 'HiringDate'], format='%Y-%m-%d', errors='coerce').dt.year\n",
    "\n",
    "if EmpleadosAttrition['Year'].isna().any():\n",
    "    print(\"Algunas fechas no pudieron ser parseadas.\")\n",
    "    #imprimir las filas problemáticas:\n",
    "    print(EmpleadosAttrition[EmpleadosAttrition['Year'].isna()])\n",
    "\n",
    "EmpleadosAttrition['Year'] = EmpleadosAttrition['Year'].fillna(0).astype(int)\n"
   ]
  },
  {
   "cell_type": "code",
   "execution_count": 5,
   "metadata": {},
   "outputs": [],
   "source": [
    "EmpleadosAttrition.loc[229, \"Year\"] = 2012\n"
   ]
  },
  {
   "cell_type": "markdown",
   "metadata": {},
   "source": [
    "# Paso 6: Crear columna YearsAtCompany"
   ]
  },
  {
   "cell_type": "code",
   "execution_count": 6,
   "metadata": {},
   "outputs": [],
   "source": [
    "EmpleadosAttrition['YearsAtCompany'] = 2018 - EmpleadosAttrition['Year']\n"
   ]
  },
  {
   "cell_type": "markdown",
   "metadata": {},
   "source": [
    "# Paso 7 y 8: Renombrar DistanceFromHome"
   ]
  },
  {
   "cell_type": "code",
   "execution_count": 7,
   "metadata": {},
   "outputs": [],
   "source": [
    "EmpleadosAttrition = EmpleadosAttrition.rename(columns={'DistanceFromHome': 'DistanceFromHome_km'})\n"
   ]
  },
  {
   "cell_type": "markdown",
   "metadata": {},
   "source": [
    "# Paso 9: Crear nueva variable DistanceFromHome como entero"
   ]
  },
  {
   "cell_type": "code",
   "execution_count": 8,
   "metadata": {},
   "outputs": [],
   "source": [
    "EmpleadosAttrition['DistanceFromHome'] = EmpleadosAttrition['DistanceFromHome_km'].str.replace(' km', '').astype(int)\n"
   ]
  },
  {
   "cell_type": "markdown",
   "metadata": {},
   "source": [
    "# Paso 10: Borrar columnas innecesarias"
   ]
  },
  {
   "cell_type": "code",
   "execution_count": 9,
   "metadata": {},
   "outputs": [],
   "source": [
    "EmpleadosAttrition = EmpleadosAttrition.drop(columns=['Year', 'HiringDate', 'DistanceFromHome_km'])\n"
   ]
  },
  {
   "cell_type": "markdown",
   "metadata": {},
   "source": [
    "# Paso 11: Crear frame SueldoPromedioDepto"
   ]
  },
  {
   "cell_type": "code",
   "execution_count": 10,
   "metadata": {},
   "outputs": [],
   "source": [
    "SueldoPromedioDepto = EmpleadosAttrition.groupby('Department')['MonthlyIncome'].mean().reset_index()\n",
    "SueldoPromedioDepto = SueldoPromedioDepto.rename(columns={'MonthlyIncome': 'SueldoPromedio'})\n"
   ]
  },
  {
   "cell_type": "markdown",
   "metadata": {},
   "source": [
    "# Paso 12: Escalar MonthlyIncome\n"
   ]
  },
  {
   "cell_type": "code",
   "execution_count": 11,
   "metadata": {},
   "outputs": [],
   "source": [
    "scaler = StandardScaler()\n",
    "EmpleadosAttrition['MonthlyIncome'] = scaler.fit_transform(EmpleadosAttrition[['MonthlyIncome']])\n"
   ]
  },
  {
   "cell_type": "code",
   "execution_count": 12,
   "metadata": {},
   "outputs": [
    {
     "data": {
      "text/plain": [
       "array(['No', 'Yes'], dtype=object)"
      ]
     },
     "execution_count": 12,
     "metadata": {},
     "output_type": "execute_result"
    }
   ],
   "source": [
    "EmpleadosAttrition.Attrition.unique()"
   ]
  },
  {
   "cell_type": "markdown",
   "metadata": {},
   "source": [
    "# Paso 13: Convertir variables categóricas a numéricas\n"
   ]
  },
  {
   "cell_type": "code",
   "execution_count": 13,
   "metadata": {},
   "outputs": [
    {
     "name": "stdout",
     "output_type": "stream",
     "text": [
      "Index(['Age', 'Education', 'EnvironmentSatisfaction', 'JobInvolvement',\n",
      "       'JobLevel', 'JobSatisfaction', 'MonthlyIncome', 'NumCompaniesWorked',\n",
      "       'OverTime', 'PercentSalaryHike', 'PerformanceRating',\n",
      "       'RelationshipSatisfaction', 'TotalWorkingYears',\n",
      "       'TrainingTimesLastYear', 'WorkLifeBalance', 'YearsInCurrentRole',\n",
      "       'YearsSinceLastPromotion', 'YearsAtCompany', 'DistanceFromHome',\n",
      "       'BusinessTravel_Travel_Frequently', 'BusinessTravel_Travel_Rarely',\n",
      "       'Department_Research & Development', 'Department_Sales',\n",
      "       'EducationField_Life Sciences', 'EducationField_Marketing',\n",
      "       'EducationField_Medical', 'EducationField_Other',\n",
      "       'EducationField_Technical Degree', 'Gender_Male',\n",
      "       'JobRole_Human Resources', 'JobRole_Laboratory Technician',\n",
      "       'JobRole_Manager', 'JobRole_Manufacturing Director',\n",
      "       'JobRole_Research Director', 'JobRole_Research Scientist',\n",
      "       'JobRole_Sales Executive', 'JobRole_Sales Representative',\n",
      "       'MaritalStatus_Married', 'MaritalStatus_Single', 'Attrition_Yes'],\n",
      "      dtype='object')\n"
     ]
    }
   ],
   "source": [
    "categorical_columns = ['BusinessTravel', 'Department', 'EducationField', 'Gender', 'JobRole', 'MaritalStatus', 'Attrition']\n",
    "EmpleadosAttrition = pd.get_dummies(EmpleadosAttrition, columns=categorical_columns, drop_first=True)\n",
    "\n",
    "print(EmpleadosAttrition.columns)"
   ]
  },
  {
   "cell_type": "code",
   "execution_count": 14,
   "metadata": {},
   "outputs": [
    {
     "name": "stdout",
     "output_type": "stream",
     "text": [
      "Columnas no numéricas: Index(['OverTime', 'BusinessTravel_Travel_Frequently',\n",
      "       'BusinessTravel_Travel_Rarely', 'Department_Research & Development',\n",
      "       'Department_Sales', 'EducationField_Life Sciences',\n",
      "       'EducationField_Marketing', 'EducationField_Medical',\n",
      "       'EducationField_Other', 'EducationField_Technical Degree',\n",
      "       'Gender_Male', 'JobRole_Human Resources',\n",
      "       'JobRole_Laboratory Technician', 'JobRole_Manager',\n",
      "       'JobRole_Manufacturing Director', 'JobRole_Research Director',\n",
      "       'JobRole_Research Scientist', 'JobRole_Sales Executive',\n",
      "       'JobRole_Sales Representative', 'MaritalStatus_Married',\n",
      "       'MaritalStatus_Single', 'Attrition_Yes'],\n",
      "      dtype='object')\n",
      "¿Todas las columnas son numéricas? False\n"
     ]
    }
   ],
   "source": [
    "non_numeric_columns = EmpleadosAttrition.select_dtypes(exclude=[np.number]).columns\n",
    "print(\"Columnas no numéricas:\", non_numeric_columns)\n",
    "EmpleadosAttrition = pd.get_dummies(EmpleadosAttrition, columns=non_numeric_columns, drop_first=True)\n",
    "print(\"¿Todas las columnas son numéricas?\", EmpleadosAttrition.select_dtypes(include=[np.number]).columns.equals(EmpleadosAttrition.columns))"
   ]
  },
  {
   "cell_type": "markdown",
   "metadata": {},
   "source": [
    "# Paso 14: Calcular correlación con Attrition\n"
   ]
  },
  {
   "cell_type": "code",
   "execution_count": 15,
   "metadata": {},
   "outputs": [
    {
     "name": "stdout",
     "output_type": "stream",
     "text": [
      "Attrition_Yes_True                        1.000000\n",
      "OverTime_Yes                              0.324777\n",
      "JobLevel                                  0.214266\n",
      "TotalWorkingYears                         0.213329\n",
      "Age                                       0.212121\n",
      "MaritalStatus_Single_True                 0.205849\n",
      "YearsInCurrentRole                        0.203918\n",
      "MonthlyIncome                             0.194936\n",
      "JobRole_Sales Representative_True         0.191294\n",
      "YearsAtCompany                            0.176001\n",
      "JobInvolvement                            0.166785\n",
      "JobSatisfaction                           0.164957\n",
      "EducationField_Technical Degree_True      0.129104\n",
      "JobRole_Laboratory Technician_True        0.125264\n",
      "EnvironmentSatisfaction                   0.124327\n",
      "JobRole_Research Director_True            0.116263\n",
      "MaritalStatus_Married_True                0.094734\n",
      "JobRole_Manager_True                      0.089885\n",
      "Department_Research & Development_True    0.072269\n",
      "TrainingTimesLastYear                     0.070884\n",
      "YearsSinceLastPromotion                   0.069000\n",
      "Department_Sales_True                     0.066116\n",
      "PercentSalaryHike                         0.060880\n",
      "Education                                 0.055531\n",
      "EducationField_Medical_True               0.054144\n",
      "DistanceFromHome                          0.052732\n",
      "BusinessTravel_Travel_Rarely_True         0.042755\n",
      "JobRole_Manufacturing Director_True       0.042404\n",
      "BusinessTravel_Travel_Frequently_True     0.035387\n",
      "JobRole_Human Resources_True              0.032714\n",
      "RelationshipSatisfaction                  0.030945\n",
      "Gender_Male_True                          0.028839\n",
      "EducationField_Life Sciences_True         0.027457\n",
      "WorkLifeBalance                           0.021723\n",
      "EducationField_Marketing_True             0.016768\n",
      "NumCompaniesWorked                        0.009082\n",
      "JobRole_Research Scientist_True           0.007977\n",
      "PerformanceRating                         0.006471\n",
      "EducationField_Other_True                 0.004275\n",
      "JobRole_Sales Executive_True              0.003115\n",
      "Name: Attrition_Yes_True, dtype: float64\n"
     ]
    }
   ],
   "source": [
    "correlations = EmpleadosAttrition.corr()['Attrition_Yes_True'].abs().sort_values(ascending=False)\n",
    "\n",
    "print(correlations)"
   ]
  },
  {
   "cell_type": "markdown",
   "metadata": {},
   "source": [
    "# Paso 15: Seleccionar variables con correlación >= 0.1\n"
   ]
  },
  {
   "cell_type": "code",
   "execution_count": 16,
   "metadata": {},
   "outputs": [],
   "source": [
    "selected_columns = correlations[correlations >= 0.1].index.tolist()\n",
    "EmpleadosAttritionFinal = EmpleadosAttrition[selected_columns]\n"
   ]
  },
  {
   "cell_type": "markdown",
   "metadata": {},
   "source": [
    "# Paso 16: Crear EmpleadosAttritionPCA\n"
   ]
  },
  {
   "cell_type": "code",
   "execution_count": 17,
   "metadata": {},
   "outputs": [],
   "source": [
    "pca = PCA()\n",
    "EmpleadosAttritionPCA = pca.fit_transform(EmpleadosAttritionFinal.drop('Attrition_Yes_True', axis=1))\n"
   ]
  },
  {
   "cell_type": "markdown",
   "metadata": {},
   "source": [
    "# Paso 17: Agregar componentes principales que expliquen el 80% de la varianza\n"
   ]
  },
  {
   "cell_type": "code",
   "execution_count": 18,
   "metadata": {},
   "outputs": [],
   "source": [
    "cumulative_variance_ratio = np.cumsum(pca.explained_variance_ratio_)\n",
    "n_components = np.argmax(cumulative_variance_ratio >= 0.8) + 1\n",
    "\n",
    "for i in range(n_components):\n",
    "    EmpleadosAttritionFinal = EmpleadosAttritionFinal.assign(**{f'C{i}': EmpleadosAttritionPCA[:, i]})\n"
   ]
  },
  {
   "cell_type": "markdown",
   "metadata": {},
   "source": [
    "# Paso 18: Guardar el set de datos final\n"
   ]
  },
  {
   "cell_type": "code",
   "execution_count": 19,
   "metadata": {},
   "outputs": [],
   "source": [
    "EmpleadosAttritionFinal.to_csv('EmpleadosAttritionFinal.csv', index=False)\n"
   ]
  },
  {
   "cell_type": "code",
   "execution_count": null,
   "metadata": {},
   "outputs": [],
   "source": []
  }
 ],
 "metadata": {
  "kernelspec": {
   "display_name": "Python 3",
   "language": "python",
   "name": "python3"
  },
  "language_info": {
   "codemirror_mode": {
    "name": "ipython",
    "version": 3
   },
   "file_extension": ".py",
   "mimetype": "text/x-python",
   "name": "python",
   "nbconvert_exporter": "python",
   "pygments_lexer": "ipython3",
   "version": "3.11.5"
  }
 },
 "nbformat": 4,
 "nbformat_minor": 2
}
